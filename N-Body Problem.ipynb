{
 "cells": [
  {
   "cell_type": "code",
   "execution_count": 1,
   "id": "7ba748ea",
   "metadata": {},
   "outputs": [],
   "source": [
    "import matplotlib.pyplot as plt\n",
    "import numpy as np\n",
    "from matplotlib.animation import FuncAnimation, PillowWriter, FFMpegWriter\n",
    "from IPython.display import HTML\n",
    "\n",
    "# ffmpeg -framerate 60 -i \"plot%d.jpg\" -c:v libx264 -pix_fmt yuv420p output.mp4"
   ]
  },
  {
   "cell_type": "code",
   "execution_count": 2,
   "id": "00e5fe23",
   "metadata": {},
   "outputs": [
    {
     "data": {
      "text/plain": [
       "<Figure size 432x288 with 0 Axes>"
      ]
     },
     "metadata": {},
     "output_type": "display_data"
    }
   ],
   "source": [
    "fig = plt.figure()\n",
    "\n",
    "C = {\n",
    "    'G' : 1, #6.67e-11 meters, kg, seconds\n",
    "    'dT' : 1,\n",
    "    'eT' : 0,\n",
    "    'tLim' : 3000,\n",
    "    'km' : 1000\n",
    "}\n"
   ]
  },
  {
   "cell_type": "code",
   "execution_count": 3,
   "id": "d15d16d6",
   "metadata": {},
   "outputs": [],
   "source": [
    "aList = [] #active\n",
    "dList = [] #disabled\n",
    "\n",
    "def cullList():\n",
    "    temp = []\n",
    "    for a in aList:\n",
    "        if a.active == True:\n",
    "            temp.append(a)\n",
    "        else:\n",
    "            dList.append(a)\n",
    "    aList.clear()\n",
    "    for a in temp:\n",
    "        aList.append(a)"
   ]
  },
  {
   "cell_type": "code",
   "execution_count": 4,
   "id": "470d86c2",
   "metadata": {},
   "outputs": [],
   "source": [
    "m_list = [1.9884e30, 5.972e24 ]\n",
    "\n",
    "r_list = [696342, 40030]"
   ]
  },
  {
   "cell_type": "code",
   "execution_count": 6,
   "id": "ce344d38",
   "metadata": {},
   "outputs": [],
   "source": [
    "global G, dT, scale\n",
    "\n",
    "scale = 1e-4\n",
    "G = 6.672e-11*scale**2\n",
    "dT = 10\n",
    "\n",
    "class Particle:\n",
    "    \n",
    "    def __init__(self,id = 0, r = np.zeros(2), v = np.zeros(2), R = 1e5, m = 1e2 , color = 'blue'):\n",
    "        \"r = Ortsvektor, v = Geschwindigkeitsvektor, R = Radius , m = Masse, color = Farbe\"\n",
    "        self.id = id\n",
    "        self.r = r\n",
    "        self.v = v\n",
    "        self.R = R\n",
    "        self.m = m \n",
    "        self.color = color\n",
    "\n",
    "\n",
    "    def calc_Force(self, particle_list, dT):\n",
    "        fG = 0\n",
    "        for entry in particle_list:\n",
    "            \n",
    "            # check if it is not the same particle\n",
    "            if entry != self:\n",
    "                dist = np.linalg.norm(self.r - entry.r) + np.finfo(float).eps\n",
    "                \n",
    "                if dist > (self.R + entry.R) * dT:\n",
    "                    # gravitational force \n",
    "                    fG -= (G * (self.m * entry.m) / dist**3) * (self.r - entry.r)\n",
    "                    #sig = 3.4 \n",
    "                    #eps = 1.67\n",
    "                    #fLJP = 24.*eps * ((2*(sig/dist)**13) - (sig/dist)**7) * (self.r - entry.r)\n",
    "                    \n",
    "        return fG\n",
    "\n",
    "    \n",
    "    \n",
    "    def calc_velocity(self, particle_list, dT=dT):\n",
    "        force = self.calc_Force(particle_list, dT=dT)\n",
    "        self.v = np.add(self.v, (force / self.m) * dT, dtype='float64')\n",
    "\n",
    "        \n",
    "    def calc_coord(self, dT=dT):\n",
    "        try:\n",
    "            self.r += self.v * dT\n",
    "        except:\n",
    "            print(self.r, self.v, dT)\n",
    "        \n",
    "        \n",
    "    def print_particle(self):\n",
    "        print('r: ' , self.r)\n",
    "        print('v: ' ,self.v)\n",
    "        print('m: ', self.m)\n",
    "        print('R: ', self.R)\n",
    "        \n",
    "        "
   ]
  },
  {
   "cell_type": "markdown",
   "id": "84adfcb5",
   "metadata": {},
   "source": [
    "$V = \\frac{m}{\\rho}$ and $ V = \\frac{4}{3} \\pi R^3$ --> $\\frac{4}{3} \\pi R^3 = \\frac{m}{\\rho}$"
   ]
  },
  {
   "cell_type": "markdown",
   "id": "6dde04d4",
   "metadata": {},
   "source": [
    "$R = \\left ( \\frac{3 \\pi m}{4 \\rho} \\right)^{\\frac{1}{3}}$"
   ]
  },
  {
   "cell_type": "code",
   "execution_count": 7,
   "id": "fb21d738",
   "metadata": {},
   "outputs": [],
   "source": [
    "class Simulation:\n",
    "    X = 150e6 * scale\n",
    "    Y = 150e6 * scale\n",
    "    \n",
    "    def __init__(self, Np=5, dT=1):\n",
    "        'Np = Number Particles, dT = Timestep'\n",
    "        \n",
    "        # particle parameters\n",
    "        m_list = np.array([1.9884e30, 5.972e24 ]) * scale\n",
    "        r_list = np.array([[0,0], [-40000., 10e2]]) \n",
    "        R_list = np.array([696342, 40030]) * scale\n",
    "        #m_list = np.random.randint(1, 10, size=(Np))*5e2 \n",
    "        #r_list = np.random.uniform(-200, 200, size=(Np,2))\n",
    "        v_list = np.array([[0.,0.], [30.,+35.]])\n",
    "        #v_list = np.random.uniform(100, 500, size=(Np,2))\n",
    "        #R_list = (3*np.pi * m_list /4)**(1/3)\n",
    "        \n",
    "        \n",
    "        self.particles = [Particle(i, r=r_list[i], v=v_list[i], R=R_list[i], m=m_list[i]) for i in range(Np)]\n",
    "        \n",
    "        \n",
    "    def increment(self):\n",
    "        for particle in self.particles:\n",
    "            particle.calc_velocity(self.particles)\n",
    "            particle.calc_coord()\n",
    "            \n",
    "        \n",
    "    def particle_positions(self):\n",
    "        return np.array([particle.r for particle in self.particles])\n",
    "    \n",
    "    def masses_for_size(self):\n",
    "        return np.array([particle.m for particle in self.particles])\n",
    "    \n",
    "    def particle_colors(self):\n",
    "        return [particle.color for particle in self.particles]\n",
    "    \n",
    "    def Radius_for_size(self):\n",
    "        return np.array([particle.R for particle in self.particles]) "
   ]
  },
  {
   "cell_type": "code",
   "execution_count": null,
   "id": "267901e5",
   "metadata": {},
   "outputs": [],
   "source": []
  },
  {
   "cell_type": "code",
   "execution_count": 8,
   "id": "d88fd2de",
   "metadata": {},
   "outputs": [],
   "source": [
    "Sim = Simulation(2,dT)"
   ]
  },
  {
   "cell_type": "code",
   "execution_count": 9,
   "id": "bec1dc36",
   "metadata": {},
   "outputs": [
    {
     "name": "stdout",
     "output_type": "stream",
     "text": [
      "[0. 0.]\n",
      "[-40000.   1000.]\n"
     ]
    }
   ],
   "source": [
    "for particle in Sim.particles:\n",
    "    print(particle.r)"
   ]
  },
  {
   "cell_type": "code",
   "execution_count": 10,
   "id": "202bf774",
   "metadata": {},
   "outputs": [
    {
     "data": {
      "text/plain": [
       "array([69.6342,  4.003 ])"
      ]
     },
     "execution_count": 10,
     "metadata": {},
     "output_type": "execute_result"
    }
   ],
   "source": [
    "Sim.Radius_for_size()"
   ]
  },
  {
   "cell_type": "code",
   "execution_count": 11,
   "id": "0296d5f3",
   "metadata": {},
   "outputs": [
    {
     "data": {
      "text/plain": [
       "<matplotlib.collections.PathCollection at 0x10ca8aaf0>"
      ]
     },
     "execution_count": 11,
     "metadata": {},
     "output_type": "execute_result"
    },
    {
     "data": {
      "image/png": "[encoded data removed]",
      "text/plain": [
       "<Figure size 432x288 with 1 Axes>"
      ]
     },
     "metadata": {
      "needs_background": "light"
     },
     "output_type": "display_data"
    }
   ],
   "source": [
    "t = Sim.particle_positions()\n",
    "plt.scatter(t[:,0], t[:,1], s=Sim.Radius_for_size())"
   ]
  },
  {
   "cell_type": "code",
   "execution_count": 12,
   "id": "9558e2fd",
   "metadata": {},
   "outputs": [],
   "source": [
    "def init():\n",
    "    ax.set_xlim(-Sim.X, Sim.X)\n",
    "    ax.set_ylim(-Sim.Y, Sim.Y)\n",
    "\n",
    "    positions = Sim.particle_positions()\n",
    "    colors = Sim.particle_colors()\n",
    "    sizes = Sim.masses_for_size()\n",
    "    scatter = ax.scatter(positions[:,0], positions[:,1], c=colors, s=sizes)\n",
    "\n",
    "    return [scatter]\n",
    "\n",
    "def update(frame):\n",
    "    Sim.increment()\n",
    "    \n",
    "    \n",
    "    scatter.set_offsets(np.array(Sim.particle_positions()))\n",
    "    scatter.set_color(Sim.particle_colors())\n",
    "    #scatter.set_sizes(['blue' for ind, part in enumerate(Sim.particle_positions())])\n",
    "    return [scatter]"
   ]
  },
  {
   "cell_type": "markdown",
   "id": "ad99d6d6",
   "metadata": {},
   "source": [
    "# Visualizing the Simulation"
   ]
  },
  {
   "cell_type": "code",
   "execution_count": 14,
   "id": "a1d9e1ed",
   "metadata": {
    "scrolled": false
   },
   "outputs": [
    {
     "data": {
      "image/png": "[encoded data removed]",
      "text/plain": [
       "<Figure size 360x648 with 1 Axes>"
      ]
     },
     "metadata": {},
     "output_type": "display_data"
    }
   ],
   "source": [
    "fig, ax = plt.subplots(figsize = (5,9))\n",
    "\n",
    "ax.set_xticks([]), ax.set_yticks([])\n",
    "ax.set_aspect('equal')\n",
    "scatter = ax.scatter([],[])"
   ]
  },
  {
   "cell_type": "code",
   "execution_count": 15,
   "id": "5b78341a",
   "metadata": {},
   "outputs": [],
   "source": [
    "#  blit = True, \n",
    "anim = FuncAnimation(fig, update, frames = range(30*2), init_func = init,interval = 1/30, repeat = False, blit=True)\n",
    "\n",
    "plt.show()"
   ]
  },
  {
   "cell_type": "markdown",
   "id": "68fabce6",
   "metadata": {},
   "source": [
    "## Built-in way (slow)\n",
    "The cells below are not marked as code as it takes a long time to run. A quicker way is found in the next section where ffmpeg is used in the command line to stick together a video out of images."
   ]
  },
  {
   "cell_type": "raw",
   "id": "5914a491",
   "metadata": {},
   "source": [
    "Writer = FFMpegWriter(fps=30)\n",
    "anim.save(\"animation.mp4\", writer=Writer)"
   ]
  },
  {
   "cell_type": "markdown",
   "id": "61c0d4fa",
   "metadata": {},
   "source": [
    "## Prepare for ffmpeg in command line"
   ]
  },
  {
   "cell_type": "code",
   "execution_count": null,
   "id": "90533d38",
   "metadata": {},
   "outputs": [],
   "source": [
    "def pick_apart(coord_list):\n",
    "    coord_list = np.array(coord_list)\n",
    "    lst = coord_list.reshape(-1, 2).tolist()\n",
    "    first_entries = lst[::2]\n",
    "    rest_of_sublists = lst[1::2]\n",
    "    \n",
    "    return first_entries, rest_of_sublists"
   ]
  },
  {
   "cell_type": "code",
   "execution_count": null,
   "id": "58e04032",
   "metadata": {
    "scrolled": true
   },
   "outputs": [],
   "source": [
    "fig, ax = plt.subplots()\n",
    "ax.set_xlim(-Sim.X*2, Sim.X*2)\n",
    "ax.set_ylim(-Sim.Y*2, Sim.Y*2)\n",
    "ax.set_xticks([]), ax.set_yticks([])\n",
    "#ax.set_aspect('equal')\n",
    "coords = Sim.particle_positions()\n",
    "ax.scatter(coords[:,0], coords[:,1], s=Sim.Radius_for_size())\n",
    "plt.savefig(f'./Test/plot{0}.jpg')\n",
    "coord_plot = list()\n",
    "\n",
    "ges = 100\n",
    "for step in range(ges):\n",
    "    ax.clear()\n",
    "    coords = Sim.particle_positions()\n",
    "    ax.scatter(coords[0,0], coords[0,1], s=Sim.Radius_for_size()[0]*2, c='blue')\n",
    "    \n",
    "    ax.set_xlim(-Sim.X*2, Sim.X*2)\n",
    "    ax.set_ylim(-Sim.Y*2, Sim.Y*2)\n",
    "    ax.set_xticks([]), ax.set_yticks([])\n",
    "    Sim.increment()\n",
    "    coord_plot.append(Sim.particle_positions())\n",
    "    \n",
    "    n1, n2 = pick_apart(coord_plot)\n",
    "    n1 = np.array(n1)\n",
    "    n2 = np.array(n2)\n",
    "    ax.plot(n1[:,0],n1[:,1], linestyle='--', label='n1', linewidth=50)\n",
    "    ax.plot(n2[:,0],n2[:,1], linestyle='--', label='n2')\n",
    "    \n",
    "    plt.savefig(f'./Test/plot{step+1}.jpg')\n",
    "    \n",
    "    \n",
    "coords = Sim.particle_positions()\n",
    "ax.scatter(coords[:,0], coords[:,1], s=Sim.Radius_for_size()*2, c='black')\n",
    "plt.savefig(f'./Test/plot{ges+1}.jpg')\n"
   ]
  },
  {
   "cell_type": "markdown",
   "id": "8c5a188d",
   "metadata": {},
   "source": [
    "# Create Video\n",
    "When having ffmpeg installed one can use that command line below to create the animation.\n",
    "This was implemented as matplotlib was taking a lot of time. \n",
    "```console\n",
    "ffmpeg -framerate 60 -i \"plot%d.jpg\" -c:v libx264 -pix_fmt yuv420p output.mp4 ```"
   ]
  }
 ],
 "metadata": {
  "kernelspec": {
   "display_name": "Python 3 (ipykernel)",
   "language": "python",
   "name": "python3"
  },
  "language_info": {
   "codemirror_mode": {
    "name": "ipython",
    "version": 3
   },
   "file_extension": ".py",
   "mimetype": "text/x-python",
   "name": "python",
   "nbconvert_exporter": "python",
   "pygments_lexer": "ipython3",
   "version": "3.9.13"
  },
  "toc": {
   "base_numbering": 1,
   "nav_menu": {},
   "number_sections": true,
   "sideBar": true,
   "skip_h1_title": false,
   "title_cell": "Table of Contents",
   "title_sidebar": "Contents",
   "toc_cell": false,
   "toc_position": {},
   "toc_section_display": true,
   "toc_window_display": true
  }
 },
 "nbformat": 4,
 "nbformat_minor": 5
}
